{
  "nbformat": 4,
  "nbformat_minor": 0,
  "metadata": {
    "colab": {
      "name": "18junio.ipynb",
      "version": "0.3.2",
      "provenance": [],
      "include_colab_link": true
    },
    "kernelspec": {
      "name": "python3",
      "display_name": "Python 3"
    }
  },
  "cells": [
    {
      "cell_type": "markdown",
      "metadata": {
        "id": "view-in-github",
        "colab_type": "text"
      },
      "source": [
        "<a href=\"https://colab.research.google.com/github/sergioays/first-attempt/blob/master/18junio.ipynb\" target=\"_parent\"><img src=\"https://colab.research.google.com/assets/colab-badge.svg\" alt=\"Open In Colab\"/></a>"
      ]
    },
    {
      "cell_type": "markdown",
      "metadata": {
        "id": "kGmw0JDhwflK",
        "colab_type": "text"
      },
      "source": [
        "# Este es el título\n",
        "\n",
        "Hola mundo cruel\n",
        "\n",
        "## Esta es una sección\n",
        "\n",
        "### Esta es una subsección\n",
        "\n",
        "Esta es una **palabra** en negrilla\n",
        "\n",
        "* esto es un item\n",
        "* este es otro item\n",
        "    * una sub\n",
        "    * otra sub\n",
        "    \n",
        "Esta es $x^2$ dentro de un texto pero esta $$x=ax+b$$ no\n",
        "\n",
        "Una fracción $$\\frac{1}{N}$$\n",
        "\n",
        "\n",
        "\n",
        "  "
      ]
    },
    {
      "cell_type": "markdown",
      "metadata": {
        "id": "JNVd1YI4zWzA",
        "colab_type": "text"
      },
      "source": [
        "| col 1 | col 2 | col 3 |\n",
        "| "
      ]
    },
    {
      "cell_type": "markdown",
      "metadata": {
        "id": "L5D9BZW71Cpq",
        "colab_type": "text"
      },
      "source": [
        "Esto es código fuente\n",
        "\n",
        "```\n",
        "print (\"Hola mundo\")\n",
        "```\n",
        "\n",
        "de demostración en la clase"
      ]
    },
    {
      "cell_type": "code",
      "metadata": {
        "id": "Cu_RV0_Hwi_T",
        "colab_type": "code",
        "colab": {}
      },
      "source": [
        ""
      ],
      "execution_count": 0,
      "outputs": []
    }
  ]
}